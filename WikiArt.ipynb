{
  "nbformat": 4,
  "nbformat_minor": 0,
  "metadata": {
    "kernelspec": {
      "name": "python3",
      "display_name": "Python 3"
    },
    "language_info": {
      "codemirror_mode": {
        "name": "ipython",
        "version": 3
      },
      "file_extension": ".py",
      "mimetype": "text/x-python",
      "name": "python",
      "nbconvert_exporter": "python",
      "pygments_lexer": "ipython3",
      "version": "3.6.9"
    },
    "colab": {
      "name": "Copy of WikiArt Example Generation.ipynb",
      "provenance": [],
      "include_colab_link": true
    },
    "accelerator": "GPU"
  },
  "cells": [
    {
      "cell_type": "markdown",
      "metadata": {
        "id": "view-in-github",
        "colab_type": "text"
      },
      "source": [
        "<a href=\"https://colab.research.google.com/github/maschere/public-jupyter/blob/master/WikiArt.ipynb\" target=\"_parent\"><img src=\"https://colab.research.google.com/assets/colab-badge.svg\" alt=\"Open In Colab\"/></a>"
      ]
    },
    {
      "cell_type": "markdown",
      "metadata": {
        "id": "ar8EXeepuY22",
        "colab_type": "text"
      },
      "source": [
        "modified from https://github.com/Norod/my-colab-experiments/blob/master/WikiArt_Example_Generation_By_Peter_Baylies.ipynb"
      ]
    },
    {
      "cell_type": "markdown",
      "metadata": {
        "id": "yzSytKOnePot",
        "colab_type": "text"
      },
      "source": [
        "# setup tensorflow and and clone StyleGAN2 git"
      ]
    },
    {
      "cell_type": "code",
      "metadata": {
        "id": "2-BWt1G9fIvX",
        "colab_type": "code",
        "colab": {}
      },
      "source": [
        "%tensorflow_version 1.x\n",
        "%cd /content/\n",
        "!git clone https://github.com/pbaylies/stylegan2\n",
        "%cd /content/stylegan2"
      ],
      "execution_count": null,
      "outputs": []
    },
    {
      "cell_type": "markdown",
      "metadata": {
        "id": "K3z5pz0baK0T",
        "colab_type": "text"
      },
      "source": [
        "# download pre-trained WikiArt StyleGAN2 model"
      ]
    },
    {
      "cell_type": "code",
      "metadata": {
        "id": "r_n5_gPtnm8D",
        "colab_type": "code",
        "colab": {}
      },
      "source": [
        "#!wget https://archive.org/download/wikiart-stylegan2-conditional-model/network-snapshot-006746.pkl\n",
        "!gdown https://drive.google.com/uc?id=12QB19XE2VGYIvjEXtv8W4cEtO9VH-nVf"
      ],
      "execution_count": null,
      "outputs": []
    },
    {
      "cell_type": "markdown",
      "metadata": {
        "id": "XWE9nSO-aVM7",
        "colab_type": "text"
      },
      "source": [
        "# load pre-trained model"
      ]
    },
    {
      "cell_type": "code",
      "metadata": {
        "id": "AkbwixD9ePox",
        "colab_type": "code",
        "colab": {}
      },
      "source": [
        "import ipywidgets as widgets\n",
        "import pretrained_networks\n",
        "import PIL.Image\n",
        "from matplotlib import pyplot as plt\n",
        "import numpy as np\n",
        "network_pkl = 'network-snapshot-006746.pkl'\n",
        "_G, _D, Gs = pretrained_networks.load_networks(network_pkl)\n",
        "import dnnlib\n",
        "import dnnlib.tflib as tflib\n",
        "Gs_syn_kwargs = dnnlib.EasyDict()\n",
        "batch_size = 1\n",
        "Gs_syn_kwargs.output_transform = dict(func=tflib.convert_images_to_uint8,\n",
        "                                      nchw_to_nhwc=True)\n",
        "Gs_syn_kwargs.randomize_noise = True\n",
        "Gs_syn_kwargs.minibatch_size = batch_size"
      ],
      "execution_count": 6,
      "outputs": []
    },
    {
      "cell_type": "markdown",
      "metadata": {
        "id": "8s2TGUcbaheg",
        "colab_type": "text"
      },
      "source": [
        "# GUI to generate new artworks"
      ]
    },
    {
      "cell_type": "code",
      "metadata": {
        "id": "prcuhpgSePpB",
        "colab_type": "code",
        "colab": {}
      },
      "source": [
        "artistPick = \"Unknown Artist\" #@param ['Unknown Artist', 'Boris Kustodiev', 'Camille Pissarro', 'Childe Hassam', 'Claude Monet', 'Edgar Degas', 'Eugene Boudin', 'Gustave Dore', 'Ilya Repin', 'Ivan Aivazovsky', 'Ivan Shishkin', 'John Singer Sargent', 'Marc Chagall', 'Martiros Saryan', 'Nicholas Roerich', 'Pablo Picasso', 'Paul Cezanne', 'Pierre Auguste Renoir', 'Pyotr Konchalovsky', 'Raphael Kirchner', 'Rembrandt', 'Salvador Dali', 'Vincent Van Gogh', 'Hieronymus Bosch', 'Leonardo Da Vinci', 'Albrecht Durer', 'Edouard Cortes', 'Sam Francis', 'Juan Gris', 'Lucas Cranach The Elder', 'Paul Gauguin', 'Konstantin Makovsky', 'Egon Schiele', 'Thomas Eakins', 'Gustave Moreau', 'Francisco Goya', 'Edvard Munch', 'Henri Matisse', 'Fra Angelico', 'Maxime Maufra', 'Jan Matejko', 'Mstislav Dobuzhinsky', 'Alfred Sisley', 'Mary Cassatt', 'Gustave Loiseau', 'Fernando Botero', 'Zinaida Serebriakova', 'Georges Seurat', 'Isaac Levitan', 'Joaquã­n Sorolla', 'Jacek Malczewski', 'Berthe Morisot', 'Andy Warhol', 'Arkhip Kuindzhi', 'Niko Pirosmani', 'James Tissot', 'Vasily Polenov', 'Valentin Serov', 'Pietro Perugino', 'Pierre Bonnard', 'Ferdinand Hodler', 'Bartolome Esteban Murillo', 'Giovanni Boldini', 'Henri Martin', 'Gustav Klimt', 'Vasily Perov', 'Odilon Redon', 'Tintoretto', 'Gene Davis', 'Raphael', 'John Henry Twachtman', 'Henri De Toulouse Lautrec', 'Antoine Blanchard', 'David Burliuk', 'Camille Corot', 'Konstantin Korovin', 'Ivan Bilibin', 'Titian', 'Maurice Prendergast', 'Edouard Manet', 'Peter Paul Rubens', 'Aubrey Beardsley', 'Paolo Veronese', 'Joshua Reynolds', 'Kuzma Petrov Vodkin', 'Gustave Caillebotte', 'Lucian Freud', 'Michelangelo', 'Dante Gabriel Rossetti', 'Felix Vallotton', 'Nikolay Bogdanov Belsky', 'Georges Braque', 'Vasily Surikov', 'Fernand Leger', 'Konstantin Somov', 'Katsushika Hokusai', 'Sir Lawrence Alma Tadema', 'Vasily Vereshchagin', 'Ernst Ludwig Kirchner', 'Mikhail Vrubel', 'Orest Kiprensky', 'William Merritt Chase', 'Aleksey Savrasov', 'Hans Memling', 'Amedeo Modigliani', 'Ivan Kramskoy', 'Utagawa Kuniyoshi', 'Gustave Courbet', 'William Turner', 'Theo Van Rysselberghe', 'Joseph Wright', 'Edward Burne Jones', 'Koloman Moser', 'Viktor Vasnetsov', 'Anthony Van Dyck', 'Raoul Dufy', 'Frans Hals', 'Hans Holbein The Younger', 'Ilya Mashkov', 'Henri Fantin Latour', 'M.C. Escher', 'El Greco', 'Mikalojus Ciurlionis', 'James Mcneill Whistler', 'Karl Bryullov', 'Jacob Jordaens', 'Thomas Gainsborough', 'Eugene Delacroix', 'Canaletto']\n",
        "artist = {'Unknown Artist': 0, 'Boris Kustodiev': 1, 'Camille Pissarro': 2, 'Childe Hassam': 3, 'Claude Monet': 4, 'Edgar Degas': 5, 'Eugene Boudin': 6, 'Gustave Dore': 7, 'Ilya Repin': 8, 'Ivan Aivazovsky': 9, 'Ivan Shishkin': 10, 'John Singer Sargent': 11, 'Marc Chagall': 12, 'Martiros Saryan': 13, 'Nicholas Roerich': 14, 'Pablo Picasso': 15, 'Paul Cezanne': 16, 'Pierre Auguste Renoir': 17, 'Pyotr Konchalovsky': 18, 'Raphael Kirchner': 19, 'Rembrandt': 20, 'Salvador Dali': 21, 'Vincent Van Gogh': 22, 'Hieronymus Bosch': 23, 'Leonardo Da Vinci': 24, 'Albrecht Durer': 25, 'Edouard Cortes': 26, 'Sam Francis': 27, 'Juan Gris': 28, 'Lucas Cranach The Elder': 29, 'Paul Gauguin': 30, 'Konstantin Makovsky': 31, 'Egon Schiele': 32, 'Thomas Eakins': 33, 'Gustave Moreau': 34, 'Francisco Goya': 35, 'Edvard Munch': 36, 'Henri Matisse': 37, 'Fra Angelico': 38, 'Maxime Maufra': 39, 'Jan Matejko': 40, 'Mstislav Dobuzhinsky': 41, 'Alfred Sisley': 42, 'Mary Cassatt': 43, 'Gustave Loiseau': 44, 'Fernando Botero': 45, 'Zinaida Serebriakova': 46, 'Georges Seurat': 47, 'Isaac Levitan': 48, 'Joaquã­n Sorolla': 49, 'Jacek Malczewski': 50, 'Berthe Morisot': 51, 'Andy Warhol': 52, 'Arkhip Kuindzhi': 53, 'Niko Pirosmani': 54, 'James Tissot': 55, 'Vasily Polenov': 56, 'Valentin Serov': 57, 'Pietro Perugino': 58, 'Pierre Bonnard': 59, 'Ferdinand Hodler': 60, 'Bartolome Esteban Murillo': 61, 'Giovanni Boldini': 62, 'Henri Martin': 63, 'Gustav Klimt': 64, 'Vasily Perov': 65, 'Odilon Redon': 66, 'Tintoretto': 67, 'Gene Davis': 68, 'Raphael': 69, 'John Henry Twachtman': 70, 'Henri De Toulouse Lautrec': 71, 'Antoine Blanchard': 72, 'David Burliuk': 73, 'Camille Corot': 74, 'Konstantin Korovin': 75, 'Ivan Bilibin': 76, 'Titian': 77, 'Maurice Prendergast': 78, 'Edouard Manet': 79, 'Peter Paul Rubens': 80, 'Aubrey Beardsley': 81, 'Paolo Veronese': 82, 'Joshua Reynolds': 83, 'Kuzma Petrov Vodkin': 84, 'Gustave Caillebotte': 85, 'Lucian Freud': 86, 'Michelangelo': 87, 'Dante Gabriel Rossetti': 88, 'Felix Vallotton': 89, 'Nikolay Bogdanov Belsky': 90, 'Georges Braque': 91, 'Vasily Surikov': 92, 'Fernand Leger': 93, 'Konstantin Somov': 94, 'Katsushika Hokusai': 95, 'Sir Lawrence Alma Tadema': 96, 'Vasily Vereshchagin': 97, 'Ernst Ludwig Kirchner': 98, 'Mikhail Vrubel': 99, 'Orest Kiprensky': 100, 'William Merritt Chase': 101, 'Aleksey Savrasov': 102, 'Hans Memling': 103, 'Amedeo Modigliani': 104, 'Ivan Kramskoy': 105, 'Utagawa Kuniyoshi': 106, 'Gustave Courbet': 107, 'William Turner': 108, 'Theo Van Rysselberghe': 109, 'Joseph Wright': 110, 'Edward Burne Jones': 111, 'Koloman Moser': 112, 'Viktor Vasnetsov': 113, 'Anthony Van Dyck': 114, 'Raoul Dufy': 115, 'Frans Hals': 116, 'Hans Holbein The Younger': 117, 'Ilya Mashkov': 118, 'Henri Fantin Latour': 119, 'M.C. Escher': 120, 'El Greco': 121, 'Mikalojus Ciurlionis': 122, 'James Mcneill Whistler': 123, 'Karl Bryullov': 124, 'Jacob Jordaens': 125, 'Thomas Gainsborough': 126, 'Eugene Delacroix': 127, 'Canaletto': 128}\n",
        "genrePick = 'Portrait' #@param ['Abstract Painting', 'Cityscape', 'Genre Painting', 'Illustration', 'Landscape', 'Nude Painting', 'Portrait', 'Religious Painting', 'Sketch And Study', 'Still Life', 'Unknown Genre']\n",
        "genre = {'Abstract Painting': 129, 'Cityscape': 130, 'Genre Painting': 131, 'Illustration': 132, 'Landscape': 133, 'Nude Painting': 134, 'Portrait': 135, 'Religious Painting': 136, 'Sketch And Study': 137, 'Still Life': 138, 'Unknown Genre': 139}\n",
        "stylePick = 'Pointillism' #@param ['Abstract Expressionism', 'Action Painting', 'Analytical Cubism', 'Art Nouveau', 'Baroque', 'Color Field Painting', 'Contemporary Realism', 'Cubism', 'Early Renaissance', 'Expressionism', 'Fauvism', 'High Renaissance', 'Impressionism', 'Mannerism Late Renaissance', 'Minimalism', 'Naive Art Primitivism', 'New Realism', 'Northern Renaissance', 'Pointillism', 'Pop Art', 'Post Impressionism', 'Realism', 'Rococo', 'Romanticism', 'Symbolism', 'Synthetic Cubism', 'Ukiyo-e']\n",
        "style = {'Abstract Expressionism': 140, 'Action Painting': 141, 'Analytical Cubism': 142, 'Art Nouveau': 143, 'Baroque': 144, 'Color Field Painting': 145, 'Contemporary Realism': 146, 'Cubism': 147, 'Early Renaissance': 148, 'Expressionism': 149, 'Fauvism': 150, 'High Renaissance': 151, 'Impressionism': 152, 'Mannerism Late Renaissance': 153, 'Minimalism': 154, 'Naive Art Primitivism': 155, 'New Realism': 156, 'Northern Renaissance': 157, 'Pointillism': 158, 'Pop Art': 159, 'Post Impressionism': 160, 'Realism': 161, 'Rococo': 162, 'Romanticism': 163, 'Symbolism': 164, 'Synthetic Cubism': 165, 'Ukiyo-e': 166}\n",
        "seed = 125 #@param {type: \"slider\", min: 1, max: 100000}\n",
        "scale = 1.0\n",
        "truncation = 1.0\n",
        "\n",
        "def display_sample(artist, genre, style, seed, scale, truncation):\n",
        "    batch_size = 1\n",
        "    l1 = np.zeros((1,167))\n",
        "    l1[0][artist] = 1\n",
        "    l1[0][genre] = 1\n",
        "    l1[0][style] = 1\n",
        "    print(l1)\n",
        "    all_seeds = [seed] * batch_size\n",
        "    all_z = np.stack([np.random.RandomState(seed).randn(*Gs.input_shape[1:]) for seed in all_seeds]) # [minibatch, component]\n",
        "    all_w = Gs.components.mapping.run(scale*all_z, np.tile(l1, (batch_size, 1))) # [minibatch, layer, component]\n",
        "    if truncation != 1:\n",
        "        w_avg = Gs.get_var('dlatent_avg')\n",
        "        all_w = w_avg + (all_w - w_avg) * truncation # [minibatch, layer, component]\n",
        "    all_images = Gs.components.synthesis.run(all_w, **Gs_syn_kwargs)\n",
        "    return PIL.Image.fromarray(np.median(all_images, axis=0).astype(np.uint8))\n",
        "\n",
        "img = display_sample(artist[artistPick], genre[genrePick], style[stylePick], seed, scale, truncation)\n",
        "print(\"generated: %s - %s - %s, seed %i\" % (artistPick, stylePick, genrePick, seed))\n",
        "\n",
        "plt.figure(figsize = (12,12))\n",
        "plt.imshow(img,aspect='auto')"
      ],
      "execution_count": null,
      "outputs": []
    }
  ]
}