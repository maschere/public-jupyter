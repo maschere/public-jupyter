{
  "nbformat": 4,
  "nbformat_minor": 0,
  "metadata": {
    "colab": {
      "name": "genGen.ipynb",
      "provenance": [],
      "collapsed_sections": [],
      "authorship_tag": "ABX9TyMuTjHwQr1YPbS45BHmY9Y2",
      "include_colab_link": true
    },
    "kernelspec": {
      "name": "python3",
      "display_name": "Python 3"
    },
    "language_info": {
      "name": "python"
    },
    "accelerator": "GPU"
  },
  "cells": [
    {
      "cell_type": "markdown",
      "metadata": {
        "id": "view-in-github",
        "colab_type": "text"
      },
      "source": [
        "<a href=\"https://colab.research.google.com/github/maschere/public-jupyter/blob/master/genGen.ipynb\" target=\"_parent\"><img src=\"https://colab.research.google.com/assets/colab-badge.svg\" alt=\"Open In Colab\"/></a>"
      ]
    },
    {
      "cell_type": "markdown",
      "metadata": {
        "id": "yr9QMETSLWKb"
      },
      "source": [
        "Genetic algorithm steered by mobilenet to generate images by painting circles "
      ]
    },
    {
      "cell_type": "code",
      "metadata": {
        "colab": {
          "base_uri": "https://localhost:8080/"
        },
        "id": "Zp-CIBhLhyi1",
        "outputId": "8a48abc9-bd49-4219-f4e9-472aee8c7ab6"
      },
      "source": [
        "# clone bob ross image repo\n",
        "!git clone https://github.com/jwilber/Bob_Ross_Paintings.git\n",
        "import pathlib\n",
        "all_images = list(pathlib.Path(\"Bob_Ross_Paintings/data/paintings\").glob('*.png'))"
      ],
      "execution_count": null,
      "outputs": [
        {
          "output_type": "stream",
          "text": [
            "Cloning into 'Bob_Ross_Paintings'...\n",
            "remote: Enumerating objects: 473, done.\u001b[K\n",
            "remote: Counting objects: 100% (8/8), done.\u001b[K\n",
            "remote: Compressing objects: 100% (8/8), done.\u001b[K\n",
            "remote: Total 473 (delta 0), reused 0 (delta 0), pack-reused 465\u001b[K\n",
            "Receiving objects: 100% (473/473), 79.24 MiB | 32.10 MiB/s, done.\n",
            "Resolving deltas: 100% (18/18), done.\n"
          ],
          "name": "stdout"
        }
      ]
    },
    {
      "cell_type": "code",
      "metadata": {
        "id": "JLEEMxhC7THd"
      },
      "source": [
        "# generative Genetic algorithm\n",
        "# %%\n",
        "from typing import Callable\n",
        "\n",
        "from IPython.display import display\n",
        "import numpy as np\n",
        "from PIL import Image\n",
        "from skimage import draw\n",
        "import random\n",
        "\n",
        "\n",
        "class indi:\n",
        "    \"\"\"individium class\"\"\"\n",
        "\n",
        "    def __init__(self, func: Callable):\n",
        "        \"\"\"init individum with random starting image\n",
        "\n",
        "        Args:\n",
        "            func (Callable): fitness funciton taking an image as parameter\n",
        "        \"\"\"\n",
        "        #self.img = np.asarray(Image.open(str(random.choice(all_images))).resize((256,256)), dtype=np.float32)/255.0\n",
        "        self.img = np.zeros((256,256,3))\n",
        "        self.fitness = func\n",
        "\n",
        "    def eval(self) -> float:\n",
        "        return self.fitness(self.img)\n",
        "\n",
        "    def mutate(self, sigma=0.1):\n",
        "        \"\"\"mutate by drawing randomly colored circles in the image\"\"\"\n",
        "        color = (np.random.randn(3)+0.1)*sigma\n",
        "        circle = np.zeros((256,256,3))\n",
        "        rr, cc = draw.circle(np.random.randint(255), np.random.randint(255), radius=8+int(32*np.random.uniform()), shape=(256,256))\n",
        "        circle[rr,cc,:] = 1\n",
        "        circle *= color\n",
        "        self.img += circle\n",
        "\n",
        "#https://stackoverflow.com/questions/42147776/producing-2d-perlin-noise-with-numpy\n",
        "def perlin(x,y,seed=None):\n",
        "    # permutation table\n",
        "    if seed is not None:\n",
        "      np.random.seed(seed)\n",
        "    p = np.arange(256,dtype=int)\n",
        "    np.random.shuffle(p)\n",
        "    p = np.stack([p,p]).flatten()\n",
        "    # coordinates of the top-left\n",
        "    xi = x.astype(int)\n",
        "    yi = y.astype(int)\n",
        "    # internal coordinates\n",
        "    xf = x - xi\n",
        "    yf = y - yi\n",
        "    # fade factors\n",
        "    u = fade(xf)\n",
        "    v = fade(yf)\n",
        "    # noise components\n",
        "    n00 = gradient(p[p[xi]+yi],xf,yf)\n",
        "    n01 = gradient(p[p[xi]+yi+1],xf,yf-1)\n",
        "    n11 = gradient(p[p[xi+1]+yi+1],xf-1,yf-1)\n",
        "    n10 = gradient(p[p[xi+1]+yi],xf-1,yf)\n",
        "    # combine noises\n",
        "    x1 = lerp(n00,n10,u)\n",
        "    x2 = lerp(n01,n11,u) # FIX1: I was using n10 instead of n01\n",
        "    return lerp(x1,x2,v) # FIX2: I also had to reverse x1 and x2 here\n",
        "\n",
        "def lerp(a,b,x):\n",
        "    \"linear interpolation\"\n",
        "    return a + x * (b-a)\n",
        "\n",
        "def fade(t):\n",
        "    \"6t^5 - 15t^4 + 10t^3\"\n",
        "    return 6 * t**5 - 15 * t**4 + 10 * t**3\n",
        "\n",
        "def gradient(h,x,y):\n",
        "    \"grad converts h to the right gradient vector and return the dot product with (x,y)\"\n",
        "    vectors = np.array([[0,1],[0,-1],[1,0],[-1,0]])\n",
        "    g = vectors[h%4]\n",
        "    return g[:,:,0] * x + g[:,:,1] * y\n",
        "\n",
        "\n",
        "def xover(a: indi, b: indi) -> indi:\n",
        "    \"\"\"crossover between two individuals by randomly-weighted interpolation\n",
        "    \"\"\"\n",
        "    c = indi(a.fitness)\n",
        "    lin = np.linspace(0,5,256,endpoint=False)\n",
        "    x,y = np.meshgrid(lin,lin)\n",
        "    rel = perlin(x,y)\n",
        "    rel = rel - rel.min()\n",
        "    rel = rel / rel.max()\n",
        "    rel = np.stack((rel,rel,rel),axis=2)\n",
        "    c.img = rel * a.img + (1 - rel) * b.img\n",
        "    return c\n",
        "\n",
        "\n"
      ],
      "execution_count": null,
      "outputs": []
    },
    {
      "cell_type": "code",
      "metadata": {
        "colab": {
          "base_uri": "https://localhost:8080/",
          "height": 273
        },
        "id": "aBVaq5d2gdlk",
        "outputId": "e66aabdc-2151-4965-fd4e-b3fc09b81af1"
      },
      "source": [
        "lin = np.linspace(0,5,256,endpoint=False)\n",
        "x,y = np.meshgrid(lin,lin)\n",
        "rel = perlin(x,y)\n",
        "rel = rel - rel.min()\n",
        "rel = rel / rel.max()\n",
        "rel *= 5\n",
        "rel = np.stack((rel,rel,rel),axis=2)\n",
        "Image.fromarray((np.clip((rel),0,1)*255).astype(np.uint8))"
      ],
      "execution_count": null,
      "outputs": [
        {
          "output_type": "execute_result",
          "data": {
            "image/png": "[encoded data removed]",
            "text/plain": [
              "<PIL.Image.Image image mode=RGB size=256x256 at 0x7F65768A6D90>"
            ]
          },
          "metadata": {
            "tags": []
          },
          "execution_count": 11
        }
      ]
    },
    {
      "cell_type": "code",
      "metadata": {
        "colab": {
          "base_uri": "https://localhost:8080/"
        },
        "id": "uyx0M5aWdGC1",
        "outputId": "d0e0a3de-9859-41e4-ba15-d0f0b5a34478"
      },
      "source": [
        "# imagenet steering\n",
        "import torch\n",
        "from torchvision import transforms\n",
        "\n",
        "model = torch.hub.load('pytorch/vision:v0.9.0', 'mobilenet_v2', pretrained=True).cuda()\n",
        "model.eval()\n",
        "preprocess = transforms.Compose([\n",
        "    transforms.Resize(256),\n",
        "    transforms.CenterCrop(224),\n",
        "    transforms.ToTensor(),\n",
        "    transforms.Normalize(mean=[0.485, 0.456, 0.406], std=[0.229, 0.224, 0.225]),\n",
        "])\n",
        "\n",
        "\n",
        "def tensor_to_img(x):\n",
        "    return Image.fromarray((np.clip([0.485, 0.456, 0.406] + x.permute([1,2,0]).numpy()*[0.229, 0.224, 0.225],0,1)*255).astype(np.uint8))\n",
        "\n",
        "def array_to_img(x):\n",
        "    return Image.fromarray((np.clip((x),0,1)*255).astype(np.uint8))\n",
        "\n",
        "#target_class =  71# 'scorpion',\n",
        "target_class =  288 # leoparrd\n",
        "\n",
        "def fitness(img):\n",
        "    with torch.no_grad():\n",
        "        probs = model.forward(preprocess(array_to_img(img)).unsqueeze(0).cuda())\n",
        "        return probs.max().detach().cpu().numpy() #maximize any one class in imagenet\n",
        "\n"
      ],
      "execution_count": null,
      "outputs": [
        {
          "output_type": "stream",
          "text": [
            "Using cache found in /root/.cache/torch/hub/pytorch_vision_v0.9.0\n"
          ],
          "name": "stderr"
        }
      ]
    },
    {
      "cell_type": "code",
      "metadata": {
        "id": "E0K0BgYk7X2O",
        "colab": {
          "base_uri": "https://localhost:8080/"
        },
        "outputId": "bd1f0239-5ae9-4b23-8be2-c9fcb7ccd966"
      },
      "source": [
        "#%% run it\n",
        "popsize = 200\n",
        "maxgen = 10000\n",
        "use_elitism = False\n",
        "allow_self_reproduction = False\n",
        "pop = [indi(fitness) for i in range(popsize)]\n",
        "!mkdir imgs"
      ],
      "execution_count": null,
      "outputs": [
        {
          "output_type": "stream",
          "text": [
            "mkdir: cannot create directory ‘imgs’: File exists\n"
          ],
          "name": "stdout"
        }
      ]
    },
    {
      "cell_type": "code",
      "metadata": {
        "colab": {
          "base_uri": "https://localhost:8080/",
          "height": 485
        },
        "id": "MruC2Oqd7Y-R",
        "outputId": "20a31e7f-fd59-4bb5-c76c-30478d232945"
      },
      "source": [
        "# %%\n",
        "for gen in range(maxgen):\n",
        "    if gen > 0:\n",
        "      pop.sort(key=lambda p0: p0.eval(), reverse=True)\n",
        "    best = pop[0]\n",
        "    print(f\"{gen}: fitness: {best.eval()}\")\n",
        "    array_to_img(best.img).save(f\"imgs/bestimg{gen}.png\")\n",
        "\n",
        "    # cross over top 10 indis of old pop\n",
        "    pop = pop[0:10]\n",
        "    new_pop = []\n",
        "    for a in pop:\n",
        "        for b in pop:\n",
        "            if allow_self_reproduction == False and a == b:\n",
        "                continue\n",
        "            new_ind = xover(a, b)\n",
        "            new_ind.mutate()\n",
        "            new_ind.mutate()\n",
        "            new_ind.mutate()\n",
        "            new_pop.append(new_ind)\n",
        "    if use_elitism:\n",
        "        pop = pop[0:1] + new_pop\n",
        "    else:\n",
        "        pop = new_pop\n",
        "\n",
        "# %%\n"
      ],
      "execution_count": null,
      "outputs": [
        {
          "output_type": "stream",
          "text": [
            "0: fitness: 3.8146049976348877\n",
            "1: fitness: 10.767754554748535\n",
            "2: fitness: 12.683655738830566\n",
            "3: fitness: 13.859115600585938\n",
            "4: fitness: 13.54750919342041\n",
            "5: fitness: 13.129260063171387\n"
          ],
          "name": "stdout"
        },
        {
          "output_type": "error",
          "ename": "KeyboardInterrupt",
          "evalue": "ignored",
          "traceback": [
            "\u001b[0;31m---------------------------------------------------------------------------\u001b[0m",
            "\u001b[0;31mKeyboardInterrupt\u001b[0m                         Traceback (most recent call last)",
            "\u001b[0;32m<ipython-input-20-7db6e7ce8db7>\u001b[0m in \u001b[0;36m<module>\u001b[0;34m()\u001b[0m\n\u001b[1;32m     14\u001b[0m             \u001b[0;32mif\u001b[0m \u001b[0mallow_self_reproduction\u001b[0m \u001b[0;34m==\u001b[0m \u001b[0;32mFalse\u001b[0m \u001b[0;32mand\u001b[0m \u001b[0ma\u001b[0m \u001b[0;34m==\u001b[0m \u001b[0mb\u001b[0m\u001b[0;34m:\u001b[0m\u001b[0;34m\u001b[0m\u001b[0;34m\u001b[0m\u001b[0m\n\u001b[1;32m     15\u001b[0m                 \u001b[0;32mcontinue\u001b[0m\u001b[0;34m\u001b[0m\u001b[0;34m\u001b[0m\u001b[0m\n\u001b[0;32m---> 16\u001b[0;31m             \u001b[0mnew_ind\u001b[0m \u001b[0;34m=\u001b[0m \u001b[0mxover\u001b[0m\u001b[0;34m(\u001b[0m\u001b[0ma\u001b[0m\u001b[0;34m,\u001b[0m \u001b[0mb\u001b[0m\u001b[0;34m)\u001b[0m\u001b[0;34m\u001b[0m\u001b[0;34m\u001b[0m\u001b[0m\n\u001b[0m\u001b[1;32m     17\u001b[0m             \u001b[0mnew_ind\u001b[0m\u001b[0;34m.\u001b[0m\u001b[0mmutate\u001b[0m\u001b[0;34m(\u001b[0m\u001b[0;34m)\u001b[0m\u001b[0;34m\u001b[0m\u001b[0;34m\u001b[0m\u001b[0m\n\u001b[1;32m     18\u001b[0m             \u001b[0mnew_ind\u001b[0m\u001b[0;34m.\u001b[0m\u001b[0mmutate\u001b[0m\u001b[0;34m(\u001b[0m\u001b[0;34m)\u001b[0m\u001b[0;34m\u001b[0m\u001b[0;34m\u001b[0m\u001b[0m\n",
            "\u001b[0;32m<ipython-input-17-20616c8403e9>\u001b[0m in \u001b[0;36mxover\u001b[0;34m(a, b)\u001b[0m\n\u001b[1;32m     83\u001b[0m     \u001b[0mlin\u001b[0m \u001b[0;34m=\u001b[0m \u001b[0mnp\u001b[0m\u001b[0;34m.\u001b[0m\u001b[0mlinspace\u001b[0m\u001b[0;34m(\u001b[0m\u001b[0;36m0\u001b[0m\u001b[0;34m,\u001b[0m\u001b[0;36m5\u001b[0m\u001b[0;34m,\u001b[0m\u001b[0;36m256\u001b[0m\u001b[0;34m,\u001b[0m\u001b[0mendpoint\u001b[0m\u001b[0;34m=\u001b[0m\u001b[0;32mFalse\u001b[0m\u001b[0;34m)\u001b[0m\u001b[0;34m\u001b[0m\u001b[0;34m\u001b[0m\u001b[0m\n\u001b[1;32m     84\u001b[0m     \u001b[0mx\u001b[0m\u001b[0;34m,\u001b[0m\u001b[0my\u001b[0m \u001b[0;34m=\u001b[0m \u001b[0mnp\u001b[0m\u001b[0;34m.\u001b[0m\u001b[0mmeshgrid\u001b[0m\u001b[0;34m(\u001b[0m\u001b[0mlin\u001b[0m\u001b[0;34m,\u001b[0m\u001b[0mlin\u001b[0m\u001b[0;34m)\u001b[0m\u001b[0;34m\u001b[0m\u001b[0;34m\u001b[0m\u001b[0m\n\u001b[0;32m---> 85\u001b[0;31m     \u001b[0mrel\u001b[0m \u001b[0;34m=\u001b[0m \u001b[0mperlin\u001b[0m\u001b[0;34m(\u001b[0m\u001b[0mx\u001b[0m\u001b[0;34m,\u001b[0m\u001b[0my\u001b[0m\u001b[0;34m)\u001b[0m\u001b[0;34m\u001b[0m\u001b[0;34m\u001b[0m\u001b[0m\n\u001b[0m\u001b[1;32m     86\u001b[0m     \u001b[0mrel\u001b[0m \u001b[0;34m=\u001b[0m \u001b[0mrel\u001b[0m \u001b[0;34m-\u001b[0m \u001b[0mrel\u001b[0m\u001b[0;34m.\u001b[0m\u001b[0mmin\u001b[0m\u001b[0;34m(\u001b[0m\u001b[0;34m)\u001b[0m\u001b[0;34m\u001b[0m\u001b[0;34m\u001b[0m\u001b[0m\n\u001b[1;32m     87\u001b[0m     \u001b[0mrel\u001b[0m \u001b[0;34m=\u001b[0m \u001b[0mrel\u001b[0m \u001b[0;34m/\u001b[0m \u001b[0mrel\u001b[0m\u001b[0;34m.\u001b[0m\u001b[0mmax\u001b[0m\u001b[0;34m(\u001b[0m\u001b[0;34m)\u001b[0m\u001b[0;34m\u001b[0m\u001b[0;34m\u001b[0m\u001b[0m\n",
            "\u001b[0;32m<ipython-input-17-20616c8403e9>\u001b[0m in \u001b[0;36mperlin\u001b[0;34m(x, y, seed)\u001b[0m\n\u001b[1;32m     51\u001b[0m     \u001b[0;31m# fade factors\u001b[0m\u001b[0;34m\u001b[0m\u001b[0;34m\u001b[0m\u001b[0;34m\u001b[0m\u001b[0m\n\u001b[1;32m     52\u001b[0m     \u001b[0mu\u001b[0m \u001b[0;34m=\u001b[0m \u001b[0mfade\u001b[0m\u001b[0;34m(\u001b[0m\u001b[0mxf\u001b[0m\u001b[0;34m)\u001b[0m\u001b[0;34m\u001b[0m\u001b[0;34m\u001b[0m\u001b[0m\n\u001b[0;32m---> 53\u001b[0;31m     \u001b[0mv\u001b[0m \u001b[0;34m=\u001b[0m \u001b[0mfade\u001b[0m\u001b[0;34m(\u001b[0m\u001b[0myf\u001b[0m\u001b[0;34m)\u001b[0m\u001b[0;34m\u001b[0m\u001b[0;34m\u001b[0m\u001b[0m\n\u001b[0m\u001b[1;32m     54\u001b[0m     \u001b[0;31m# noise components\u001b[0m\u001b[0;34m\u001b[0m\u001b[0;34m\u001b[0m\u001b[0;34m\u001b[0m\u001b[0m\n\u001b[1;32m     55\u001b[0m     \u001b[0mn00\u001b[0m \u001b[0;34m=\u001b[0m \u001b[0mgradient\u001b[0m\u001b[0;34m(\u001b[0m\u001b[0mp\u001b[0m\u001b[0;34m[\u001b[0m\u001b[0mp\u001b[0m\u001b[0;34m[\u001b[0m\u001b[0mxi\u001b[0m\u001b[0;34m]\u001b[0m\u001b[0;34m+\u001b[0m\u001b[0myi\u001b[0m\u001b[0;34m]\u001b[0m\u001b[0;34m,\u001b[0m\u001b[0mxf\u001b[0m\u001b[0;34m,\u001b[0m\u001b[0myf\u001b[0m\u001b[0;34m)\u001b[0m\u001b[0;34m\u001b[0m\u001b[0;34m\u001b[0m\u001b[0m\n",
            "\u001b[0;32m<ipython-input-17-20616c8403e9>\u001b[0m in \u001b[0;36mfade\u001b[0;34m(t)\u001b[0m\n\u001b[1;32m     68\u001b[0m \u001b[0;32mdef\u001b[0m \u001b[0mfade\u001b[0m\u001b[0;34m(\u001b[0m\u001b[0mt\u001b[0m\u001b[0;34m)\u001b[0m\u001b[0;34m:\u001b[0m\u001b[0;34m\u001b[0m\u001b[0;34m\u001b[0m\u001b[0m\n\u001b[1;32m     69\u001b[0m     \u001b[0;34m\"6t^5 - 15t^4 + 10t^3\"\u001b[0m\u001b[0;34m\u001b[0m\u001b[0;34m\u001b[0m\u001b[0m\n\u001b[0;32m---> 70\u001b[0;31m     \u001b[0;32mreturn\u001b[0m \u001b[0;36m6\u001b[0m \u001b[0;34m*\u001b[0m \u001b[0mt\u001b[0m\u001b[0;34m**\u001b[0m\u001b[0;36m5\u001b[0m \u001b[0;34m-\u001b[0m \u001b[0;36m15\u001b[0m \u001b[0;34m*\u001b[0m \u001b[0mt\u001b[0m\u001b[0;34m**\u001b[0m\u001b[0;36m4\u001b[0m \u001b[0;34m+\u001b[0m \u001b[0;36m10\u001b[0m \u001b[0;34m*\u001b[0m \u001b[0mt\u001b[0m\u001b[0;34m**\u001b[0m\u001b[0;36m3\u001b[0m\u001b[0;34m\u001b[0m\u001b[0;34m\u001b[0m\u001b[0m\n\u001b[0m\u001b[1;32m     71\u001b[0m \u001b[0;34m\u001b[0m\u001b[0m\n\u001b[1;32m     72\u001b[0m \u001b[0;32mdef\u001b[0m \u001b[0mgradient\u001b[0m\u001b[0;34m(\u001b[0m\u001b[0mh\u001b[0m\u001b[0;34m,\u001b[0m\u001b[0mx\u001b[0m\u001b[0;34m,\u001b[0m\u001b[0my\u001b[0m\u001b[0;34m)\u001b[0m\u001b[0;34m:\u001b[0m\u001b[0;34m\u001b[0m\u001b[0;34m\u001b[0m\u001b[0m\n",
            "\u001b[0;31mKeyboardInterrupt\u001b[0m: "
          ]
        }
      ]
    },
    {
      "cell_type": "code",
      "metadata": {
        "colab": {
          "base_uri": "https://localhost:8080/"
        },
        "id": "D7Y6MFJyFGUV",
        "outputId": "1ddc1586-a5a7-4e48-ec66-71f6350648f0"
      },
      "source": [
        "!ffmpeg -r 20 -i /content/imgs/bestimg%d.png -vcodec mpeg4 -y movie.mp4"
      ],
      "execution_count": null,
      "outputs": [
        {
          "output_type": "stream",
          "text": [
            "ffmpeg version 3.4.8-0ubuntu0.2 Copyright (c) 2000-2020 the FFmpeg developers\n",
            "  built with gcc 7 (Ubuntu 7.5.0-3ubuntu1~18.04)\n",
            "  configuration: --prefix=/usr --extra-version=0ubuntu0.2 --toolchain=hardened --libdir=/usr/lib/x86_64-linux-gnu --incdir=/usr/include/x86_64-linux-gnu --enable-gpl --disable-stripping --enable-avresample --enable-avisynth --enable-gnutls --enable-ladspa --enable-libass --enable-libbluray --enable-libbs2b --enable-libcaca --enable-libcdio --enable-libflite --enable-libfontconfig --enable-libfreetype --enable-libfribidi --enable-libgme --enable-libgsm --enable-libmp3lame --enable-libmysofa --enable-libopenjpeg --enable-libopenmpt --enable-libopus --enable-libpulse --enable-librubberband --enable-librsvg --enable-libshine --enable-libsnappy --enable-libsoxr --enable-libspeex --enable-libssh --enable-libtheora --enable-libtwolame --enable-libvorbis --enable-libvpx --enable-libwavpack --enable-libwebp --enable-libx265 --enable-libxml2 --enable-libxvid --enable-libzmq --enable-libzvbi --enable-omx --enable-openal --enable-opengl --enable-sdl2 --enable-libdc1394 --enable-libdrm --enable-libiec61883 --enable-chromaprint --enable-frei0r --enable-libopencv --enable-libx264 --enable-shared\n",
            "  libavutil      55. 78.100 / 55. 78.100\n",
            "  libavcodec     57.107.100 / 57.107.100\n",
            "  libavformat    57. 83.100 / 57. 83.100\n",
            "  libavdevice    57. 10.100 / 57. 10.100\n",
            "  libavfilter     6.107.100 /  6.107.100\n",
            "  libavresample   3.  7.  0 /  3.  7.  0\n",
            "  libswscale      4.  8.100 /  4.  8.100\n",
            "  libswresample   2.  9.100 /  2.  9.100\n",
            "  libpostproc    54.  7.100 / 54.  7.100\n",
            "Input #0, image2, from '/content/imgs/bestimg%d.png':\n",
            "  Duration: 00:00:22.04, start: 0.000000, bitrate: N/A\n",
            "    Stream #0:0: Video: png, rgb24(pc), 256x256, 25 fps, 25 tbr, 25 tbn, 25 tbc\n",
            "Stream mapping:\n",
            "  Stream #0:0 -> #0:0 (png (native) -> mpeg4 (native))\n",
            "Press [q] to stop, [?] for help\n",
            "Output #0, mp4, to 'movie.mp4':\n",
            "  Metadata:\n",
            "    encoder         : Lavf57.83.100\n",
            "    Stream #0:0: Video: mpeg4 (mp4v / 0x7634706D), yuv420p, 256x256, q=2-31, 200 kb/s, 20 fps, 10240 tbn, 20 tbc\n",
            "    Metadata:\n",
            "      encoder         : Lavc57.107.100 mpeg4\n",
            "    Side data:\n",
            "      cpb: bitrate max/min/avg: 0/0/200000 buffer size: 0 vbv_delay: -1\n",
            "frame=  551 fps=0.0 q=9.4 Lsize=     782kB time=00:00:27.50 bitrate= 232.9kbits/s speed=27.6x    \n",
            "video:779kB audio:0kB subtitle:0kB other streams:0kB global headers:0kB muxing overhead: 0.407027%\n"
          ],
          "name": "stdout"
        }
      ]
    }
  ]
}