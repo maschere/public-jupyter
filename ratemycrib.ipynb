{
  "nbformat": 4,
  "nbformat_minor": 0,
  "metadata": {
    "colab": {
      "name": "ratemycrib.ipynb",
      "provenance": [],
      "authorship_tag": "ABX9TyO9ksHjGji4q6qXExiy9foH",
      "include_colab_link": true
    },
    "kernelspec": {
      "name": "python3",
      "display_name": "Python 3"
    },
    "language_info": {
      "name": "python"
    }
  },
  "cells": [
    {
      "cell_type": "markdown",
      "metadata": {
        "id": "view-in-github",
        "colab_type": "text"
      },
      "source": [
        "<a href=\"https://colab.research.google.com/github/maschere/public-jupyter/blob/master/ratemycrib.ipynb\" target=\"_parent\"><img src=\"https://colab.research.google.com/assets/colab-badge.svg\" alt=\"Open In Colab\"/></a>"
      ]
    },
    {
      "cell_type": "code",
      "metadata": {
        "id": "KcKZ6FdU7Sk-"
      },
      "source": [
        "# download house price csv\n",
        "!wget \"https://github.com/maschere/public-jupyter/blob/master/data/ames%20housing/ames.csv?raw=true\" -O ames.csv"
      ],
      "execution_count": null,
      "outputs": []
    },
    {
      "cell_type": "code",
      "metadata": {
        "id": "gIyoAs8r9Il-"
      },
      "source": [
        "# install missing packages with !pip (pandas is actually already available)\n",
        "!pip install pandas"
      ],
      "execution_count": null,
      "outputs": []
    },
    {
      "cell_type": "code",
      "metadata": {
        "id": "D-WbYUkW7izm"
      },
      "source": [
        "# read data\n",
        "import pandas as pd\n",
        "dat = pd.read_csv(\"ames.csv\").iloc[0:2000]\n",
        "dat_test = pd.read_csv(\"ames.csv\").iloc[2001:]\n",
        "dat.describe()"
      ],
      "execution_count": null,
      "outputs": []
    },
    {
      "cell_type": "code",
      "metadata": {
        "id": "ec9zHfeE8WTm"
      },
      "source": [
        "# fit lightGBM model with sklearn pipline.\n",
        "# example: https://www.kaggle.com/maarklam/gradient-boosted-regression-with-pipelines (adapt to lightGBM and the ames.csv dataset here)"
      ],
      "execution_count": null,
      "outputs": []
    }
  ]
}